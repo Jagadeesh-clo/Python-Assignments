{
 "cells": [
  {
   "cell_type": "markdown",
   "metadata": {},
   "source": [
    "# 1. What are escape characters, and how do you use them?"
   ]
  },
  {
   "cell_type": "markdown",
   "metadata": {},
   "source": [
    "1. Single and quote escape character:(\\' , \\\" ) \n",
    "\n",
    "It will escape the backslach before the singkle and couble quotes.\n",
    "\n",
    "2. Backslash(\\\\) :\n",
    "\n",
    "It will escape the backslach before the backslash in the string.\n",
    "\n",
    "3. New Line Escape character:(\\n)\n",
    "\n",
    "It will print the string in new line after the  escape character.\n",
    "\n",
    "4. Carriage return escape character (\\r):\n",
    "\n",
    "It will result the all the values after the \"\\r\" quote and eliminate all the string before the quote.\n",
    "\n",
    "5. Tab space Character (\\t):\n",
    "\n",
    "It will print the tabspace in the place of the quote.\n",
    "\n",
    "6. Backspace escape character (\\b)\n",
    "\n",
    "It will eliminate the character before the quote.\n",
    "\n",
    "7. Form feed escape character (\\f):\n",
    "\n",
    "It will print all the characters in the next line after the quote.\n",
    "\n",
    "8. Octal Value escape character ('\\53\\54\\55'):\n",
    "\n",
    "It will result the characters in the place of quote.\n",
    "\n",
    "9. Hex Value escape character. '\\x56\\57\\58'\n",
    "\n",
    "It will result the alphabet characters in the place of the quote.\n"
   ]
  },
  {
   "cell_type": "markdown",
   "metadata": {},
   "source": [
    "# 2. What do the escape characters n and t stand for?"
   ]
  },
  {
   "cell_type": "markdown",
   "metadata": {},
   "source": [
    "\"\\n\" helps to print the string in the next line.\n",
    "\n",
    "\"\\t\" helps to print the tabspace in the place of quote.\n"
   ]
  },
  {
   "cell_type": "code",
   "execution_count": 2,
   "metadata": {},
   "outputs": [
    {
     "name": "stdout",
     "output_type": "stream",
     "text": [
      "Hello \n",
      " world\n",
      "Hello \t world\n"
     ]
    }
   ],
   "source": [
    "print(\"Hello \\n world\")\n",
    "print(\"Hello \\t world\")\n"
   ]
  },
  {
   "cell_type": "markdown",
   "metadata": {},
   "source": [
    "# 3. What is the way to include backslash characters in a string?"
   ]
  },
  {
   "cell_type": "markdown",
   "metadata": {},
   "source": [
    "We can use the backslash in anywhere between the string. Which eliminate one backslash in the string."
   ]
  },
  {
   "cell_type": "code",
   "execution_count": 5,
   "metadata": {},
   "outputs": [
    {
     "name": "stdout",
     "output_type": "stream",
     "text": [
      "Hello \\ world\n"
     ]
    }
   ],
   "source": [
    "print(\"Hello \\\\ world\")"
   ]
  },
  {
   "cell_type": "markdown",
   "metadata": {},
   "source": [
    "# 4. The string \"Howl's Moving Castle\" is a correct value. Why isn't the single quote character in the word Howl's not escaped a problem?"
   ]
  },
  {
   "cell_type": "markdown",
   "metadata": {},
   "source": [
    "If the string enclosed in double quotes and inside that if we mention any sigle quotes, it will consider as a string. "
   ]
  },
  {
   "cell_type": "code",
   "execution_count": 4,
   "metadata": {},
   "outputs": [
    {
     "data": {
      "text/plain": [
       "\"Howl's Moving Castle\""
      ]
     },
     "execution_count": 4,
     "metadata": {},
     "output_type": "execute_result"
    }
   ],
   "source": [
    "str = \"Howl's Moving Castle\"\n",
    "str"
   ]
  },
  {
   "cell_type": "markdown",
   "metadata": {},
   "source": [
    "# 5. How do you write a string of newlines if you don't want to use the n character?"
   ]
  },
  {
   "cell_type": "markdown",
   "metadata": {},
   "source": [
    "print( ) function will help to print a newline without using \"\\n\" in the code"
   ]
  },
  {
   "cell_type": "code",
   "execution_count": 13,
   "metadata": {},
   "outputs": [
    {
     "name": "stdout",
     "output_type": "stream",
     "text": [
      "Hello ,World\n",
      "How are you \n",
      "This is Full Stack Data scice course  Taught by Ineuron\n"
     ]
    }
   ],
   "source": [
    "print(\"Hello ,World\")\n",
    "print(\"How are you \")\n",
    "\n",
    "print(\"This is Full Stack Data scice course\", end =\" \")\n",
    "print(\" Taught by Ineuron\")"
   ]
  },
  {
   "cell_type": "markdown",
   "metadata": {},
   "source": [
    "# 6. What are the values of the given expressions?"
   ]
  },
  {
   "cell_type": "code",
   "execution_count": 16,
   "metadata": {},
   "outputs": [
    {
     "name": "stdout",
     "output_type": "stream",
     "text": [
      "e\n",
      "Hello\n",
      "Hello\n",
      "lo, world!\n"
     ]
    }
   ],
   "source": [
    "print('Hello, world!'[1])\n",
    "print('Hello, world!'[0:5])\n",
    "print('Hello, world!'[:5])\n",
    "print('Hello, world!'[3:])"
   ]
  },
  {
   "cell_type": "markdown",
   "metadata": {},
   "source": [
    "# 7. What are the values of the following expressions?"
   ]
  },
  {
   "cell_type": "code",
   "execution_count": 22,
   "metadata": {},
   "outputs": [
    {
     "name": "stdout",
     "output_type": "stream",
     "text": [
      "HELLO\n",
      "True\n",
      "hello\n"
     ]
    }
   ],
   "source": [
    "print('Hello'.upper())\n",
    "print('Hello'.upper().isupper())\n",
    "print('Hello'.upper().lower())"
   ]
  },
  {
   "cell_type": "markdown",
   "metadata": {},
   "source": [
    "# 8. What are the values of the following expressions?\n",
    "\n",
    "'Remember,remember, the fifth of july'.split()\n",
    "\n",
    "'_'.join(\"There can only one\").split()"
   ]
  },
  {
   "cell_type": "code",
   "execution_count": 24,
   "metadata": {},
   "outputs": [
    {
     "data": {
      "text/plain": [
       "['Remember,remember,', 'the', 'fifth', 'of', 'july']"
      ]
     },
     "execution_count": 24,
     "metadata": {},
     "output_type": "execute_result"
    }
   ],
   "source": [
    "'Remember,remember, the fifth of july'.split()"
   ]
  },
  {
   "cell_type": "code",
   "execution_count": 28,
   "metadata": {},
   "outputs": [
    {
     "data": {
      "text/plain": [
       "['T_h_e_r_e_', '_c_a_n_', '_o_n_l_y_', '_o_n_e']"
      ]
     },
     "execution_count": 28,
     "metadata": {},
     "output_type": "execute_result"
    }
   ],
   "source": [
    "'_'.join(\"There can only one\").split()"
   ]
  },
  {
   "cell_type": "markdown",
   "metadata": {},
   "source": [
    "# 9. What are the methods for right-justifying, left-justifying, and centering a string?"
   ]
  },
  {
   "cell_type": "markdown",
   "metadata": {},
   "source": [
    "Right-Justifying , Left-Justfying and center fuctions are using to maintain the proper allignment in the python program \n",
    "\n",
    "The methods are \n",
    "\n",
    "Right Justifying = rjust(length, fillchar)\n",
    "\n",
    "Left Justifying = ljust(length, fillchar)\n",
    "\n",
    "Center Alignment = center(length, fillchar)"
   ]
  },
  {
   "cell_type": "code",
   "execution_count": 71,
   "metadata": {},
   "outputs": [
    {
     "name": "stdout",
     "output_type": "stream",
     "text": [
      "________Full Stack Data science Course, \n",
      "I have enrolled for Data Science Course_________________________________________\n",
      "_________ This is my Full Stack Dat Science Course__________\n"
     ]
    }
   ],
   "source": [
    "#Right Justifying\n",
    "\n",
    "Str = \"Full Stack Data science Course, \"\n",
    "print(Str.rjust(40,\"_\"))\n",
    "\n",
    "\n",
    "#Left Justify\n",
    "\n",
    "Str1 = \"I have enrolled for Data Science Course\"\n",
    "\n",
    "print(Str1.ljust(80,\"_\"))\n",
    "\n",
    "#Center allignment\n",
    "\n",
    "Str2 = \" This is my Full Stack Dat Science Course\"\n",
    "\n",
    "print(Str2.center(60,\"_\"))"
   ]
  },
  {
   "cell_type": "markdown",
   "metadata": {},
   "source": [
    "# 10. What is the best way to remove whitespace characters from the start or end?"
   ]
  },
  {
   "cell_type": "markdown",
   "metadata": {},
   "source": [
    "We are using strip( ) to remove the start and end whitespaces in the string. "
   ]
  },
  {
   "cell_type": "code",
   "execution_count": 78,
   "metadata": {},
   "outputs": [
    {
     "name": "stdout",
     "output_type": "stream",
     "text": [
      "         My name is Jagadeesh R         \n",
      "My name is Jagadeesh R\n"
     ]
    }
   ],
   "source": [
    "name = \"         My name is Jagadeesh R         \"\n",
    "\n",
    "print(name)\n",
    "\n",
    "print(name.strip())"
   ]
  },
  {
   "cell_type": "code",
   "execution_count": null,
   "metadata": {},
   "outputs": [],
   "source": []
  },
  {
   "cell_type": "code",
   "execution_count": null,
   "metadata": {},
   "outputs": [],
   "source": []
  }
 ],
 "metadata": {
  "kernelspec": {
   "display_name": "Python 3",
   "language": "python",
   "name": "python3"
  },
  "language_info": {
   "codemirror_mode": {
    "name": "ipython",
    "version": 3
   },
   "file_extension": ".py",
   "mimetype": "text/x-python",
   "name": "python",
   "nbconvert_exporter": "python",
   "pygments_lexer": "ipython3",
   "version": "3.8.5"
  }
 },
 "nbformat": 4,
 "nbformat_minor": 4
}
