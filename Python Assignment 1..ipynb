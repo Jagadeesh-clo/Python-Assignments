{
 "cells": [
  {
   "cell_type": "markdown",
   "metadata": {},
   "source": [
    "# 1. What are the differences between operators and values in the following?\n",
    "\n",
    "'hello' – String Value\n",
    "\n",
    "-87.8  - Floating Values\n",
    "\n",
    "-\n",
    "\n",
    "/\n",
    "\n",
    "+\n",
    "\n",
    "6 - Integer\n",
    "\n",
    "Ans : Values are inputs which is to be stored in a Variable.\n",
    "\n",
    "          Operators: Operators are used to perform mathematical operations. Operators are the type of variables.\n",
    "          \n",
    "Eg : 'hello' – String values stored in “ ” or ‘ ‘. To check the type of variable in python is , type(‘hello’)\n",
    "\n"
   ]
  },
  {
   "cell_type": "markdown",
   "metadata": {},
   "source": [
    "# 2. What is the difference between string and variable?\n",
    "\n",
    "spam\n",
    "'spam'\n",
    "\n",
    "Spam is a variable which helps us to store a variable.\n",
    "\n",
    "‘ spam ‘ is a value in the form of string. The string ‘spam’ can be stored in variable called spam. \n",
    "\n",
    "Eg : Spam =’spam’\n"
   ]
  },
  {
   "cell_type": "markdown",
   "metadata": {},
   "source": [
    "# 3. Describe three different data forms.\n",
    "\n",
    "The python data forms are \n",
    "\n",
    "1.\tNumeric – Numeric forms are any integers and floating values.\n",
    "2.\tString – String forms are used to store any character and string values in “ “ or ‘  ’.\n",
    "3.\tBoolean – Boolean data forms are either True or False in python.  \n",
    "\n"
   ]
  },
  {
   "cell_type": "markdown",
   "metadata": {},
   "source": [
    "# 4. What makes up an expression? What are the functions of all expressions?\n",
    "\n",
    "If the line contains any arithmetic, relational logical expressions, this will be treated as a expression in python.\n",
    "\n",
    "Apart from that if the line performs any comprehensive functions, it will be treated as expression.\n",
    "\n",
    "Arithmetic Operator: (+,-,*,/)\n",
    "\n",
    "Relational Operator : ( >,>=, <,<=,==, !=)\n",
    "\n",
    "Logical Operator – AND, OR \n",
    "\n",
    "\tAND – AND operator helps to define two or more conditions in an expression that must satisfy all the conditions to execute the code.\n",
    "\n",
    "    OR – OR operator helps to define two or more conditions in an expression, If any one condition satisfies the expression will be executed.\n"
   ]
  },
  {
   "cell_type": "markdown",
   "metadata": {},
   "source": [
    "# 5. In this chapter, assignment statements such as spam = 10 were added. What's the difference between a declaration and an expression?\n",
    "\n",
    "Declaration – Declaration is to defining a variable or values into an particular Variable name.\n",
    "\n",
    "Eg : i=1\n",
    "\n",
    "Expression : If the line contains more than one operator and performs operations within the scope it is called as Expression \n",
    "and the expression contains any arithmetic, relational and logical operators.\n"
   ]
  },
  {
   "cell_type": "code",
   "execution_count": 2,
   "metadata": {},
   "outputs": [
    {
     "name": "stdout",
     "output_type": "stream",
     "text": [
      "0\n",
      "1\n",
      "2\n",
      "3\n",
      "4\n"
     ]
    }
   ],
   "source": [
    "i=1\n",
    "n=5\n",
    "for i in range(n):\n",
    "    print(i)\n",
    "    i+=1\n"
   ]
  },
  {
   "cell_type": "markdown",
   "metadata": {},
   "source": [
    "# 6. After running the following code, what does the variable bacon contain?\n",
    "\n",
    "bacon = 22\n",
    "\n",
    "bacon + 1\n",
    "\n",
    "Ans : Bacon contains integer 22 and with bacon , integer 1 is added but it is not stored in a variable. \n",
    "\n",
    "So, the bacon still contains the integer 22."
   ]
  },
  {
   "cell_type": "code",
   "execution_count": 4,
   "metadata": {},
   "outputs": [
    {
     "data": {
      "text/plain": [
       "22"
      ]
     },
     "execution_count": 4,
     "metadata": {},
     "output_type": "execute_result"
    }
   ],
   "source": [
    "bacon = 22\n",
    "bacon + 1\n",
    "bacon"
   ]
  },
  {
   "cell_type": "markdown",
   "metadata": {},
   "source": [
    "# 7. What should the values of the following two terms be?\n",
    "\n",
    "Ans:\n",
    "\n",
    "'spam' + 'spamspam' =Adding ‘spam’ with ‘spamspam’ again and again . It will result as ‘spamspamspam’\n",
    "\n",
    "'spam' * 3  =Multiplying ‘spam’ 3 times, it will result as ‘spamspamspam’\n"
   ]
  },
  {
   "cell_type": "code",
   "execution_count": 5,
   "metadata": {},
   "outputs": [
    {
     "data": {
      "text/plain": [
       "'spamspamspam'"
      ]
     },
     "execution_count": 5,
     "metadata": {},
     "output_type": "execute_result"
    }
   ],
   "source": [
    "'spam' + 'spamspam'  "
   ]
  },
  {
   "cell_type": "code",
   "execution_count": 6,
   "metadata": {},
   "outputs": [
    {
     "data": {
      "text/plain": [
       "'spamspamspam'"
      ]
     },
     "execution_count": 6,
     "metadata": {},
     "output_type": "execute_result"
    }
   ],
   "source": [
    "'spam' * 3 "
   ]
  },
  {
   "cell_type": "markdown",
   "metadata": {},
   "source": [
    "# 8. Why is it that eggs is a true variable name but 100 is not?\n",
    "\n",
    "* Variable definition should follow some conditions like.\n",
    "\n",
    "* Variable name starts with any char.\n",
    "\n",
    "* Variable should not start with any integer and special characters.\n",
    "\n",
    "* in the above case “ eggs “ starts with alphabetic character so it is valid. But 100 is an integer, so we cannot define the integer as variable name.\n"
   ]
  },
  {
   "cell_type": "code",
   "execution_count": 8,
   "metadata": {},
   "outputs": [
    {
     "data": {
      "text/plain": [
       "10"
      ]
     },
     "execution_count": 8,
     "metadata": {},
     "output_type": "execute_result"
    }
   ],
   "source": [
    "eggs =10\n",
    "eggs"
   ]
  },
  {
   "cell_type": "code",
   "execution_count": 9,
   "metadata": {},
   "outputs": [
    {
     "ename": "SyntaxError",
     "evalue": "cannot assign to literal (<ipython-input-9-f7b4941675b3>, line 1)",
     "output_type": "error",
     "traceback": [
      "\u001b[1;36m  File \u001b[1;32m\"<ipython-input-9-f7b4941675b3>\"\u001b[1;36m, line \u001b[1;32m1\u001b[0m\n\u001b[1;33m    100=100\u001b[0m\n\u001b[1;37m    ^\u001b[0m\n\u001b[1;31mSyntaxError\u001b[0m\u001b[1;31m:\u001b[0m cannot assign to literal\n"
     ]
    }
   ],
   "source": [
    "100=100"
   ]
  },
  {
   "cell_type": "markdown",
   "metadata": {},
   "source": [
    "# 9. Which of the following three functions may be used to convert a value to an integer, a floating-point number, or a string?\n",
    "\n",
    "Ans   \n",
    "1.\tConverting Float into Integer: A=10.10,  B= int(A) , B= 10 ,Now A is converted into an integer.\n",
    "\n",
    "2.\tConverting integer into an string  A=10, B=str(A)  B= ‘10’.\n",
    "\n",
    "3.\tConverting integer to an float value A=10, B=float(A) B=10.0\n"
   ]
  },
  {
   "cell_type": "code",
   "execution_count": 17,
   "metadata": {},
   "outputs": [
    {
     "name": "stdout",
     "output_type": "stream",
     "text": [
      "integer is  10\n",
      "The string is 10 \n",
      "The float value is  10.0\n"
     ]
    }
   ],
   "source": [
    "#1 - Float to interger\n",
    "A=10.10\n",
    "B=int(A)\n",
    "print(\"integer is \",B)\n",
    "\n",
    "#2 Integer to String :\n",
    "\n",
    "C=10\n",
    "D=str(C)\n",
    "print(\"The string is {} \".format(D))\n",
    "\n",
    "#3 integer to float :\n",
    "\n",
    "E=10\n",
    "F=float(E)\n",
    "print(\"The float value is \",F)\n"
   ]
  },
  {
   "cell_type": "markdown",
   "metadata": {},
   "source": [
    "# 10. What is the error caused by this expression? What would you do about it?\n",
    "\n",
    "'I have eaten ' + 99 + ' burritos.'\n",
    "\n",
    "Ans : We will get type error” can only concatenate str (not \"int\") to str”, by following the above expression. \n",
    "\n",
    "The Correct expression would be  'I have eaten'+ str( 99 ) + 'burritos'\n"
   ]
  },
  {
   "cell_type": "code",
   "execution_count": 19,
   "metadata": {},
   "outputs": [
    {
     "ename": "TypeError",
     "evalue": "can only concatenate str (not \"int\") to str",
     "output_type": "error",
     "traceback": [
      "\u001b[1;31m---------------------------------------------------------------------------\u001b[0m",
      "\u001b[1;31mTypeError\u001b[0m                                 Traceback (most recent call last)",
      "\u001b[1;32m<ipython-input-19-ae4bfca78b6a>\u001b[0m in \u001b[0;36m<module>\u001b[1;34m\u001b[0m\n\u001b[1;32m----> 1\u001b[1;33m \u001b[1;34m'I have eaten '\u001b[0m \u001b[1;33m+\u001b[0m \u001b[1;36m99\u001b[0m \u001b[1;33m+\u001b[0m \u001b[1;34m' burritos.'\u001b[0m\u001b[1;33m\u001b[0m\u001b[1;33m\u001b[0m\u001b[0m\n\u001b[0m\u001b[0;32m      2\u001b[0m \u001b[1;34m'I have eaten'\u001b[0m\u001b[1;33m+\u001b[0m \u001b[0mstr\u001b[0m\u001b[1;33m(\u001b[0m \u001b[1;36m99\u001b[0m \u001b[1;33m)\u001b[0m \u001b[1;33m+\u001b[0m \u001b[1;34m'burritos'\u001b[0m\u001b[1;33m\u001b[0m\u001b[1;33m\u001b[0m\u001b[0m\n",
      "\u001b[1;31mTypeError\u001b[0m: can only concatenate str (not \"int\") to str"
     ]
    }
   ],
   "source": [
    "'I have eaten ' + 99 + ' burritos.'\n"
   ]
  },
  {
   "cell_type": "code",
   "execution_count": 20,
   "metadata": {},
   "outputs": [
    {
     "data": {
      "text/plain": [
       "'I have eaten99burritos'"
      ]
     },
     "execution_count": 20,
     "metadata": {},
     "output_type": "execute_result"
    }
   ],
   "source": [
    "'I have eaten'+ str( 99 ) + 'burritos'\n"
   ]
  }
 ],
 "metadata": {
  "kernelspec": {
   "display_name": "Python 3",
   "language": "python",
   "name": "python3"
  },
  "language_info": {
   "codemirror_mode": {
    "name": "ipython",
    "version": 3
   },
   "file_extension": ".py",
   "mimetype": "text/x-python",
   "name": "python",
   "nbconvert_exporter": "python",
   "pygments_lexer": "ipython3",
   "version": "3.8.5"
  }
 },
 "nbformat": 4,
 "nbformat_minor": 4
}
