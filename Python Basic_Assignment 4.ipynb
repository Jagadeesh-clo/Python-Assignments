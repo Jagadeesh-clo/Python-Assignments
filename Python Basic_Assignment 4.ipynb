{
 "cells": [
  {
   "cell_type": "markdown",
   "metadata": {},
   "source": [
    "# 1. What exactly is [ ]?"
   ]
  },
  {
   "cell_type": "markdown",
   "metadata": {},
   "source": [
    "The [ ] brases denmotes the list.\n",
    "\n",
    "If the elements are stored inside [ ], we are calling as List elements.\n"
   ]
  },
  {
   "cell_type": "markdown",
   "metadata": {},
   "source": [
    "# 2. In a list of values stored in a variable called spam, how would you assign the value \"hello\"; as the third value? (Assume [2, 4, 6, 8, 10] are in spam.)"
   ]
  },
  {
   "cell_type": "code",
   "execution_count": 3,
   "metadata": {},
   "outputs": [
    {
     "data": {
      "text/plain": [
       "[2, 4, 'Hello', 8, 10]"
      ]
     },
     "execution_count": 3,
     "metadata": {},
     "output_type": "execute_result"
    }
   ],
   "source": [
    "# We are addign the third element using the indexing method\n",
    "\n",
    "l=[2,4,6,8,10]\n",
    "\n",
    "l[2]=\"Hello\"\n",
    "l"
   ]
  },
  {
   "cell_type": "markdown",
   "metadata": {},
   "source": [
    "# 3 Let's pretend the spam includes the list [\"a\",\"b\",\"c\",\"d\"] for the next three queries. What is the value of spam[int(int('3' * 2) / 11)]?"
   ]
  },
  {
   "cell_type": "code",
   "execution_count": 31,
   "metadata": {},
   "outputs": [
    {
     "ename": "IndexError",
     "evalue": "list index out of range",
     "output_type": "error",
     "traceback": [
      "\u001b[1;31m---------------------------------------------------------------------------\u001b[0m",
      "\u001b[1;31mIndexError\u001b[0m                                Traceback (most recent call last)",
      "\u001b[1;32m<ipython-input-31-9a3f4901450e>\u001b[0m in \u001b[0;36m<module>\u001b[1;34m\u001b[0m\n\u001b[1;32m----> 1\u001b[1;33m \u001b[0mspam\u001b[0m\u001b[1;33m[\u001b[0m\u001b[0mint\u001b[0m\u001b[1;33m(\u001b[0m\u001b[0mint\u001b[0m\u001b[1;33m(\u001b[0m\u001b[1;34m\"3\"\u001b[0m\u001b[1;33m*\u001b[0m\u001b[1;36m2\u001b[0m\u001b[1;33m)\u001b[0m\u001b[1;33m/\u001b[0m\u001b[1;36m11\u001b[0m\u001b[1;33m)\u001b[0m\u001b[1;33m]\u001b[0m\u001b[1;33m\u001b[0m\u001b[1;33m\u001b[0m\u001b[0m\n\u001b[0m",
      "\u001b[1;31mIndexError\u001b[0m: list index out of range"
     ]
    }
   ],
   "source": [
    "spam[int(int(\"3\"*2)/11)]            "
   ]
  },
  {
   "cell_type": "code",
   "execution_count": 32,
   "metadata": {},
   "outputs": [
    {
     "data": {
      "text/plain": [
       "['a', 'b', 'c', 'd', 3]"
      ]
     },
     "execution_count": 32,
     "metadata": {},
     "output_type": "execute_result"
    }
   ],
   "source": [
    "spam = [\"a\",\"b\",\"c\",\"d\"]\n",
    "a= int(int(\"3\"*2)/11)\n",
    "spam.append(a)\n",
    "\n",
    "spam"
   ]
  },
  {
   "cell_type": "markdown",
   "metadata": {},
   "source": [
    "# 4.What is the value of spam[-1]?"
   ]
  },
  {
   "cell_type": "code",
   "execution_count": 34,
   "metadata": {},
   "outputs": [
    {
     "data": {
      "text/plain": [
       "3"
      ]
     },
     "execution_count": 34,
     "metadata": {},
     "output_type": "execute_result"
    }
   ],
   "source": [
    "spam[-1]"
   ]
  },
  {
   "cell_type": "markdown",
   "metadata": {},
   "source": [
    "# 5.what is the value of spam[:2]"
   ]
  },
  {
   "cell_type": "code",
   "execution_count": 36,
   "metadata": {},
   "outputs": [
    {
     "data": {
      "text/plain": [
       "['a', 'b']"
      ]
     },
     "execution_count": 36,
     "metadata": {},
     "output_type": "execute_result"
    }
   ],
   "source": [
    "spam[:2]"
   ]
  },
  {
   "cell_type": "markdown",
   "metadata": {},
   "source": [
    "# Let's pretend bacon has the list [3.14, \"cat\", 11,\"cat\", True] for the next three questions."
   ]
  },
  {
   "cell_type": "markdown",
   "metadata": {},
   "source": [
    "# 6. What is the value of bacon.index(\"cat\")?"
   ]
  },
  {
   "cell_type": "code",
   "execution_count": 37,
   "metadata": {},
   "outputs": [
    {
     "data": {
      "text/plain": [
       "1"
      ]
     },
     "execution_count": 37,
     "metadata": {},
     "output_type": "execute_result"
    }
   ],
   "source": [
    "bacon =[3.14,\"cat\",11,\"cat\",True]\n",
    "bacon.index(\"cat\")"
   ]
  },
  {
   "cell_type": "markdown",
   "metadata": {},
   "source": [
    "# 7.How does bacon.append(99) change the look of the list value in bacon?"
   ]
  },
  {
   "cell_type": "code",
   "execution_count": 50,
   "metadata": {},
   "outputs": [
    {
     "name": "stdout",
     "output_type": "stream",
     "text": [
      "[3.14, 'cat', 11, 'cat', True, 99]\n"
     ]
    }
   ],
   "source": [
    "bacon.append(99)\n",
    "print(bacon)"
   ]
  },
  {
   "cell_type": "markdown",
   "metadata": {},
   "source": [
    "# 8.How does bacon.remove(\"cat\") change the look of the list in bacon?"
   ]
  },
  {
   "cell_type": "code",
   "execution_count": 51,
   "metadata": {},
   "outputs": [],
   "source": [
    "bacon.remove(\"cat\")"
   ]
  },
  {
   "cell_type": "code",
   "execution_count": 52,
   "metadata": {},
   "outputs": [
    {
     "data": {
      "text/plain": [
       "[3.14, 11, 'cat', True, 99]"
      ]
     },
     "execution_count": 52,
     "metadata": {},
     "output_type": "execute_result"
    }
   ],
   "source": [
    "bacon"
   ]
  },
  {
   "cell_type": "markdown",
   "metadata": {},
   "source": [
    "# 9. What are the list concatenation and list replication operators?"
   ]
  },
  {
   "cell_type": "code",
   "execution_count": 66,
   "metadata": {},
   "outputs": [
    {
     "name": "stdout",
     "output_type": "stream",
     "text": [
      "[1, 2, 3, 4, 5, 6, 7, 8]\n",
      "The new duplicated list is [1, 2, 3, 4, 5, 6, 7, 8, 9]\n",
      "The old l3 list is [1, 2, 3, 4, 5, 6, 7, 8]\n"
     ]
    }
   ],
   "source": [
    "#Concatenate\n",
    "\n",
    "l1 = [1,2,3,4]\n",
    "l2 = [5,6,7,8]\n",
    "l3 =l1+l2\n",
    "print(l3)\n",
    "\n",
    "#replicate\n",
    "#Duplicating the existing file without changing the source list content\n",
    "l4=l3.copy()\n",
    "\n",
    "l4.append(9)\n",
    "\n",
    "print(\"The new duplicated list is\",l4)\n",
    "\n",
    "print(\"The old l3 list is\",l3)\n",
    "\n"
   ]
  },
  {
   "cell_type": "markdown",
   "metadata": {},
   "source": [
    "# 10. What is difference between the list methods append() and insert()?"
   ]
  },
  {
   "cell_type": "markdown",
   "metadata": {},
   "source": [
    "append(:\n",
    "\n",
    "* The append function is used to add the element in the last index of the string.\n",
    "\n",
    "* The elements will be added at the end of the list\n",
    "\n",
    "insert():\n",
    "\n",
    "* insert functions helps us to insert the element at a specified index.\n",
    "\n",
    "* Based on the user need , we cann the element at any index location\n",
    "\n"
   ]
  },
  {
   "cell_type": "code",
   "execution_count": 69,
   "metadata": {},
   "outputs": [
    {
     "name": "stdout",
     "output_type": "stream",
     "text": [
      " The appedd function result is  [1, 2, 3, 4, 5, 'Jai']\n",
      "The insert function result is [1, 2, 3, 'Ram', 4, 5, 'Jai']\n"
     ]
    }
   ],
   "source": [
    "#Eg:\n",
    "\n",
    "# append\n",
    "list1 = [1,2,3,4,5]\n",
    "list1.append(\"Jai\")\n",
    "\n",
    "print(\" The appedd function result is \",list1)\n",
    "\n",
    "\n",
    "# insert()\n",
    "\n",
    "list1.insert(3,\"Ram\")\n",
    "print(\"The insert function result is\",list1)"
   ]
  },
  {
   "cell_type": "markdown",
   "metadata": {},
   "source": [
    "# 11. What are the two methods for removing items from a list?"
   ]
  },
  {
   "cell_type": "markdown",
   "metadata": {},
   "source": [
    "We can remove the elements from the list using below two methods.\n",
    "\n",
    "remove():\n",
    "\n",
    "This remove function helps us to remove only one element at the time\n",
    "\n",
    "clear():\n",
    "\n",
    "This clear function helps to remove all the elements at a single time from the list"
   ]
  },
  {
   "cell_type": "code",
   "execution_count": 70,
   "metadata": {},
   "outputs": [
    {
     "name": "stdout",
     "output_type": "stream",
     "text": [
      "The remove function result is  [1, 2, 4, 5, 6, 7, 8, 9, 0]\n",
      " The clear function result is  []\n"
     ]
    }
   ],
   "source": [
    "#Ex:\n",
    "#remove function\n",
    "\n",
    "L = [1,2,3,4,5,6,7,8,9,0]\n",
    "L.remove(3)\n",
    "\n",
    "print(\"The remove function result is \",L)\n",
    "\n",
    "#clear( ) function:\n",
    "\n",
    "L.clear()\n",
    "\n",
    "print(\" The clear function result is \",L)"
   ]
  },
  {
   "cell_type": "code",
   "execution_count": 82,
   "metadata": {},
   "outputs": [],
   "source": [
    "l=[1,2,3,4,5,6]\n"
   ]
  },
  {
   "cell_type": "code",
   "execution_count": 83,
   "metadata": {},
   "outputs": [
    {
     "ename": "StopIteration",
     "evalue": "",
     "output_type": "error",
     "traceback": [
      "\u001b[1;31m---------------------------------------------------------------------------\u001b[0m",
      "\u001b[1;31mStopIteration\u001b[0m                             Traceback (most recent call last)",
      "\u001b[1;32m<ipython-input-83-15841f3f11d4>\u001b[0m in \u001b[0;36m<module>\u001b[1;34m\u001b[0m\n\u001b[1;32m----> 1\u001b[1;33m \u001b[0mnext\u001b[0m\u001b[1;33m(\u001b[0m\u001b[0ma\u001b[0m\u001b[1;33m)\u001b[0m\u001b[1;33m\u001b[0m\u001b[1;33m\u001b[0m\u001b[0m\n\u001b[0m",
      "\u001b[1;31mStopIteration\u001b[0m: "
     ]
    }
   ],
   "source": [
    "next(a)"
   ]
  },
  {
   "cell_type": "markdown",
   "metadata": {},
   "source": [
    "# 12. Describe how list values and string values are identical."
   ]
  },
  {
   "cell_type": "markdown",
   "metadata": {},
   "source": [
    "* String values able to store only \"character and string values\"\n",
    "* List can store any type of value inside the list.\n",
    "* Item assignment is not possible in String values.\n",
    "* Item assignment is possible in List.\n",
    "* String and list objects is not an iterator byb default.\n",
    "* List can perform reassignment operation but not in String values\n",
    "* List can perform insert,append,remove and many operations.\n",
    "* String cannot perform the operations.\n",
    "* List is mutable and string is immutable objects\n"
   ]
  },
  {
   "cell_type": "markdown",
   "metadata": {},
   "source": [
    "# 13.What's the difference between tuples and lists?"
   ]
  },
  {
   "cell_type": "markdown",
   "metadata": {},
   "source": [
    "* List can store any type of of values inside the [ ].\n",
    "* Tuple can store any type of values inside the ( )\n",
    "* Item re assignment is not possible in tuple , but possible in List\n",
    "* Tuples objests are immutable\n",
    "* List elements are mutable"
   ]
  },
  {
   "cell_type": "markdown",
   "metadata": {},
   "source": [
    "# 14. How do you type a tuple value that only contains the integer 42?"
   ]
  },
  {
   "cell_type": "markdown",
   "metadata": {},
   "source": [
    "* We cannot directly insert the only ine element inside the tuple. It will be trated as integer element.\n",
    "\n",
    "* To insert the element into the tuple , we need to convert the tuple into an list and list can insert and append the elements."
   ]
  },
  {
   "cell_type": "code",
   "execution_count": 85,
   "metadata": {},
   "outputs": [
    {
     "name": "stdout",
     "output_type": "stream",
     "text": [
      "<class 'tuple'>\n",
      "(42,)\n"
     ]
    }
   ],
   "source": [
    "t= ()\n",
    "a=list(t)\n",
    "a.append(42)\n",
    "t=tuple(a)\n",
    "print(type(t))\n",
    "print(t)"
   ]
  },
  {
   "cell_type": "markdown",
   "metadata": {},
   "source": [
    "# 15. How do you get a list value's tuple form? How do you get a tuple value's list form?"
   ]
  },
  {
   "cell_type": "code",
   "execution_count": 89,
   "metadata": {},
   "outputs": [
    {
     "name": "stdout",
     "output_type": "stream",
     "text": [
      "The type of t1 is  <class 'tuple'>\n",
      "The type of L1 is  <class 'list'>\n"
     ]
    }
   ],
   "source": [
    "# Converting list into an tuple\n",
    "\n",
    "l=[1,2,3,4,5,\"jaga\",\"sri ram\"]\n",
    "t1=tuple(l)\n",
    "print(\"The type of t1 is \",type(t1))\n",
    "\n",
    "# Converting tuple into an list\n",
    "\n",
    "t=(1,2,3,4,\"Jai\",45.6)\n",
    "l1=list(t)\n",
    "print(\"The type of L1 is \",type(l1))"
   ]
  },
  {
   "cell_type": "markdown",
   "metadata": {},
   "source": [
    "# 16. Variables that \"contain\" list values are not necessarily lists themselves. Instead, what do they contain?"
   ]
  },
  {
   "cell_type": "code",
   "execution_count": 92,
   "metadata": {},
   "outputs": [
    {
     "name": "stdout",
     "output_type": "stream",
     "text": [
      "Contain\n"
     ]
    }
   ],
   "source": [
    "Var = \"Contain\"\n",
    "\n",
    "# Variable are not eactly contain the list values.it contains the string values.\n",
    "\n",
    "print(Var)\n"
   ]
  },
  {
   "cell_type": "markdown",
   "metadata": {},
   "source": [
    "# 17. How do you distinguish between copy.copy() and copy.deepcopy()?"
   ]
  },
  {
   "cell_type": "markdown",
   "metadata": {},
   "source": [
    "1 Shalllow copy: copy .copy()\n",
    "\n",
    "The shallow copy helps to create a same list with different id. The address of the both elements are different.The copy.copy will change the address for the whole list. If the list contains the nested list, the both old and new sublist will have the same address. \n",
    "\n",
    "In shallow copy, the nested list address will not be changed.If we do any changes in the nested list, it will reflect in both old and new list. \n",
    "\n",
    "2. Deepcopy:\n",
    "\n",
    "Deep copy will helps us to change the address of the nested list as well. The both old list and new list address along wih the nested list also will be changed.\n",
    "\n",
    "If we do any changes in the new list, it will not reflect in the old list. "
   ]
  },
  {
   "cell_type": "code",
   "execution_count": 107,
   "metadata": {},
   "outputs": [
    {
     "name": "stdout",
     "output_type": "stream",
     "text": [
      "1396383859840\n",
      "1396383563968\n",
      "1396383953920\n",
      "1396383953920\n"
     ]
    }
   ],
   "source": [
    "#Shallow Copy\n",
    "\n",
    "import copy\n",
    "l=[[1,2,3],[4,5,6],[7,8,9]]\n",
    "l1=copy.copy(l)\n",
    "print(id(l))\n",
    "print(id(l1))\n",
    "\n",
    "print(id(l[1]))\n",
    "print(id(l1[1]))\n",
    "\n"
   ]
  },
  {
   "cell_type": "code",
   "execution_count": 122,
   "metadata": {},
   "outputs": [
    {
     "name": "stdout",
     "output_type": "stream",
     "text": [
      "1396381256128\n",
      "1396383398592\n",
      "1396383518208\n",
      "1396381255360\n",
      "[[1, 100, 3], [1, 2, 3, 4, 'I Neuron'], ['a', 'b', 'c', 'd']]\n",
      "[[1, 2, 3], [1, 2, 3, 4, 'I Neuron'], ['a', 'b', 'c', 'd']]\n"
     ]
    }
   ],
   "source": [
    "#Deepcopy\n",
    "\n",
    "import copy\n",
    "l=[[1,2,3],[1,2,3,4,\"I Neuron\"],[\"a\",\"b\",\"c\",\"d\"]]\n",
    "l1=copy.deepcopy(l) \n",
    "print(id(l))\n",
    "print(id(l1))\n",
    "print(id(l[1]))\n",
    "print(id(l1[1]))\n",
    "\n",
    "l1[0][1]=100\n",
    "print(l1)\n",
    "print(l)"
   ]
  },
  {
   "cell_type": "code",
   "execution_count": 101,
   "metadata": {},
   "outputs": [
    {
     "data": {
      "text/plain": [
       "[[1, 2, 3], [100, 5, 6], [7, 8, 9]]"
      ]
     },
     "execution_count": 101,
     "metadata": {},
     "output_type": "execute_result"
    }
   ],
   "source": [
    "l"
   ]
  },
  {
   "cell_type": "code",
   "execution_count": null,
   "metadata": {},
   "outputs": [],
   "source": []
  }
 ],
 "metadata": {
  "kernelspec": {
   "display_name": "Python 3",
   "language": "python",
   "name": "python3"
  },
  "language_info": {
   "codemirror_mode": {
    "name": "ipython",
    "version": 3
   },
   "file_extension": ".py",
   "mimetype": "text/x-python",
   "name": "python",
   "nbconvert_exporter": "python",
   "pygments_lexer": "ipython3",
   "version": "3.8.5"
  }
 },
 "nbformat": 4,
 "nbformat_minor": 4
}
